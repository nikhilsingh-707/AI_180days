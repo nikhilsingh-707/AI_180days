{
 "cells": [
  {
   "cell_type": "markdown",
   "id": "4f77da8a-2c13-42d3-90e3-5455d4cd512a",
   "metadata": {},
   "source": [
    "Creating dataframe in dictionary"
   ]
  },
  {
   "cell_type": "code",
   "execution_count": 4,
   "id": "c1a582b0-110a-444a-bcc8-1c2b29e731b4",
   "metadata": {},
   "outputs": [],
   "source": [
    "import pandas as pd"
   ]
  },
  {
   "cell_type": "code",
   "execution_count": 1,
   "id": "111d3c2f-1036-4804-b784-aa396529ac20",
   "metadata": {},
   "outputs": [],
   "source": [
    "#Creating a List\n",
    "states = ['Jharkhand','Bihar','UP','Goa','Odisha']\n",
    "population=[7854,56325,78547,66325,84862]"
   ]
  },
  {
   "cell_type": "code",
   "execution_count": 2,
   "id": "cb3496ff-1e77-4dff-a13a-c95b669dffaa",
   "metadata": {},
   "outputs": [],
   "source": [
    "#storing list within dictionary\n",
    "dict_states = {'States' : states ,'Population' :population }"
   ]
  },
  {
   "cell_type": "code",
   "execution_count": 6,
   "id": "4c248ad4-e091-45bf-a9c7-e8808918151c",
   "metadata": {},
   "outputs": [],
   "source": [
    "#Creating a dataframe\n",
    "df_population = pd.DataFrame(dict_states)"
   ]
  },
  {
   "cell_type": "code",
   "execution_count": 8,
   "id": "261021bb-f154-4cf8-a00f-ab086b78257d",
   "metadata": {},
   "outputs": [
    {
     "data": {
      "text/html": [
       "<div>\n",
       "<style scoped>\n",
       "    .dataframe tbody tr th:only-of-type {\n",
       "        vertical-align: middle;\n",
       "    }\n",
       "\n",
       "    .dataframe tbody tr th {\n",
       "        vertical-align: top;\n",
       "    }\n",
       "\n",
       "    .dataframe thead th {\n",
       "        text-align: right;\n",
       "    }\n",
       "</style>\n",
       "<table border=\"1\" class=\"dataframe\">\n",
       "  <thead>\n",
       "    <tr style=\"text-align: right;\">\n",
       "      <th></th>\n",
       "      <th>States</th>\n",
       "      <th>Population</th>\n",
       "    </tr>\n",
       "  </thead>\n",
       "  <tbody>\n",
       "    <tr>\n",
       "      <th>0</th>\n",
       "      <td>Jharkhand</td>\n",
       "      <td>7854</td>\n",
       "    </tr>\n",
       "    <tr>\n",
       "      <th>1</th>\n",
       "      <td>Bihar</td>\n",
       "      <td>56325</td>\n",
       "    </tr>\n",
       "    <tr>\n",
       "      <th>2</th>\n",
       "      <td>UP</td>\n",
       "      <td>78547</td>\n",
       "    </tr>\n",
       "    <tr>\n",
       "      <th>3</th>\n",
       "      <td>Goa</td>\n",
       "      <td>66325</td>\n",
       "    </tr>\n",
       "    <tr>\n",
       "      <th>4</th>\n",
       "      <td>Odisha</td>\n",
       "      <td>84862</td>\n",
       "    </tr>\n",
       "  </tbody>\n",
       "</table>\n",
       "</div>"
      ],
      "text/plain": [
       "      States  Population\n",
       "0  Jharkhand        7854\n",
       "1      Bihar       56325\n",
       "2         UP       78547\n",
       "3        Goa       66325\n",
       "4     Odisha       84862"
      ]
     },
     "execution_count": 8,
     "metadata": {},
     "output_type": "execute_result"
    }
   ],
   "source": [
    "# show\n",
    "df_population"
   ]
  }
 ],
 "metadata": {
  "kernelspec": {
   "display_name": "Python 3 (ipykernel)",
   "language": "python",
   "name": "python3"
  },
  "language_info": {
   "codemirror_mode": {
    "name": "ipython",
    "version": 3
   },
   "file_extension": ".py",
   "mimetype": "text/x-python",
   "name": "python",
   "nbconvert_exporter": "python",
   "pygments_lexer": "ipython3",
   "version": "3.11.7"
  }
 },
 "nbformat": 4,
 "nbformat_minor": 5
}
