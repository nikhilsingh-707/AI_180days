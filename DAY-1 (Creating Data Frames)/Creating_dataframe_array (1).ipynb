{
 "cells": [
  {
   "cell_type": "markdown",
   "id": "443d35fe-6490-4019-9519-5960211b53e8",
   "metadata": {},
   "source": [
    "🔷 1. What is an Array in Pandas?\r\n",
    "\r\n",
    "In Pandas\n",
    "       A Series is like a one-dimensional array with labels (index).\r",
    "\r\n",
    "    A DataFrame is like a two-dimensional table made up of multiple Series (colum\n",
    "📘 What is a DataFrame in Pandas?\r\n",
    "\r\n",
    "A DataFrame is the most commonly used data structure in Pandas. It is a two-dimensional, tabular data structure that looks like a table (like an Excel sheet or SQL table) with:\r\n",
    "\r\n",
    "    Rows (index)\r\n",
    "\r\n",
    "    Columns (labels)\r\n",
    "\r\n",
    "    Data values (cells)\r\n",
    "\r\n",
    "🔷 Features of a DataFrame\r\n",
    "\r\n",
    "    Each column can have a different data type (string, int, float, etc.)\r\n",
    "\r\n",
    "    Labeled rows and columns\r\n",
    "\r\n",
    "    Built on NumPy arrays\r\n",
    "\r\n",
    "    Can easily handle missing values\r\n",
    "\r\n",
    "    Supports powerful data manipulation (filtering, grouping, merging, etc.)y array."
   ]
  },
  {
   "cell_type": "markdown",
   "id": "0f7d55c8-b422-49b1-8337-db012f624bd2",
   "metadata": {},
   "source": [
    "Creating Dataframe from array "
   ]
  },
  {
   "cell_type": "code",
   "execution_count": 1,
   "id": "80f96926-9c71-49ba-8a7c-1230d88d6186",
   "metadata": {},
   "outputs": [],
   "source": [
    "import pandas as pd\n",
    "import numpy as np"
   ]
  },
  {
   "cell_type": "code",
   "execution_count": 2,
   "id": "da4297d5-2b01-463a-8352-4647622f9b21",
   "metadata": {},
   "outputs": [],
   "source": [
    "#Creating an array\n",
    "data = np.array([[12,4,],[34,5],[67,8]])"
   ]
  },
  {
   "cell_type": "code",
   "execution_count": 7,
   "id": "ce0eb445-70c4-4fd6-a74f-96162ba0766e",
   "metadata": {},
   "outputs": [],
   "source": [
    "#Creating a data frame\n",
    "df=pd.DataFrame(data, index=['row_1','row_2','row3',],columns = ['col_1','col_2'])"
   ]
  },
  {
   "cell_type": "code",
   "execution_count": 8,
   "id": "3a27aae7-71a1-4e0e-8158-e69654591744",
   "metadata": {},
   "outputs": [
    {
     "data": {
      "text/html": [
       "<div>\n",
       "<style scoped>\n",
       "    .dataframe tbody tr th:only-of-type {\n",
       "        vertical-align: middle;\n",
       "    }\n",
       "\n",
       "    .dataframe tbody tr th {\n",
       "        vertical-align: top;\n",
       "    }\n",
       "\n",
       "    .dataframe thead th {\n",
       "        text-align: right;\n",
       "    }\n",
       "</style>\n",
       "<table border=\"1\" class=\"dataframe\">\n",
       "  <thead>\n",
       "    <tr style=\"text-align: right;\">\n",
       "      <th></th>\n",
       "      <th>col_1</th>\n",
       "      <th>col_2</th>\n",
       "    </tr>\n",
       "  </thead>\n",
       "  <tbody>\n",
       "    <tr>\n",
       "      <th>row_1</th>\n",
       "      <td>12</td>\n",
       "      <td>4</td>\n",
       "    </tr>\n",
       "    <tr>\n",
       "      <th>row_2</th>\n",
       "      <td>34</td>\n",
       "      <td>5</td>\n",
       "    </tr>\n",
       "    <tr>\n",
       "      <th>row3</th>\n",
       "      <td>67</td>\n",
       "      <td>8</td>\n",
       "    </tr>\n",
       "  </tbody>\n",
       "</table>\n",
       "</div>"
      ],
      "text/plain": [
       "       col_1  col_2\n",
       "row_1     12      4\n",
       "row_2     34      5\n",
       "row3      67      8"
      ]
     },
     "execution_count": 8,
     "metadata": {},
     "output_type": "execute_result"
    }
   ],
   "source": [
    "#show dataframe\n",
    "df"
   ]
  },
  {
   "cell_type": "markdown",
   "id": "3b03067b-a1c6-47f6-9c56-d53e8fad9b1b",
   "metadata": {},
   "source": [
    "Creating a array with list shape "
   ]
  },
  {
   "cell_type": "code",
   "execution_count": null,
   "id": "9ce95f9c-074d-433c-b805-cf3f9dd21299",
   "metadata": {},
   "outputs": [],
   "source": [
    "data = ([[12,4,],[34,5],[67,8]])"
   ]
  },
  {
   "cell_type": "code",
   "execution_count": null,
   "id": "bfbc0e02-9638-48c2-a7d8-300559e3cd11",
   "metadata": {},
   "outputs": [],
   "source": [
    "df=pd.DataFrame(data, index=['row_1','row_2','row3',],columns = ['col_1','col_2'])"
   ]
  },
  {
   "cell_type": "code",
   "execution_count": 9,
   "id": "7557d125-acb2-4b24-a962-d606918a38c7",
   "metadata": {},
   "outputs": [
    {
     "data": {
      "text/html": [
       "<div>\n",
       "<style scoped>\n",
       "    .dataframe tbody tr th:only-of-type {\n",
       "        vertical-align: middle;\n",
       "    }\n",
       "\n",
       "    .dataframe tbody tr th {\n",
       "        vertical-align: top;\n",
       "    }\n",
       "\n",
       "    .dataframe thead th {\n",
       "        text-align: right;\n",
       "    }\n",
       "</style>\n",
       "<table border=\"1\" class=\"dataframe\">\n",
       "  <thead>\n",
       "    <tr style=\"text-align: right;\">\n",
       "      <th></th>\n",
       "      <th>col_1</th>\n",
       "      <th>col_2</th>\n",
       "    </tr>\n",
       "  </thead>\n",
       "  <tbody>\n",
       "    <tr>\n",
       "      <th>row_1</th>\n",
       "      <td>12</td>\n",
       "      <td>4</td>\n",
       "    </tr>\n",
       "    <tr>\n",
       "      <th>row_2</th>\n",
       "      <td>34</td>\n",
       "      <td>5</td>\n",
       "    </tr>\n",
       "    <tr>\n",
       "      <th>row3</th>\n",
       "      <td>67</td>\n",
       "      <td>8</td>\n",
       "    </tr>\n",
       "  </tbody>\n",
       "</table>\n",
       "</div>"
      ],
      "text/plain": [
       "       col_1  col_2\n",
       "row_1     12      4\n",
       "row_2     34      5\n",
       "row3      67      8"
      ]
     },
     "execution_count": 9,
     "metadata": {},
     "output_type": "execute_result"
    }
   ],
   "source": [
    "df"
   ]
  },
  {
   "cell_type": "markdown",
   "id": "01f3dc8c-b8e4-4485-ab04-9ed8a442f656",
   "metadata": {},
   "source": [
    "\n",
    "\n",
    "1. A **NumPy array**\n",
    "2. A **list of lists**\n",
    "\n",
    "Both ways give the same result.\n",
    "\n",
    "---\n",
    "\n",
    "##  Step-by-Step Explanation\n",
    "\n",
    "### 🔹 Step 1: Import Libraries\n",
    "\n",
    "```python\n",
    "import pandas as pd\n",
    "import numpy as np\n",
    "```\n",
    "\n",
    "You are telling Python:\n",
    "\n",
    "* `pd` will be used for **Pandas** (to make tables).\n",
    "* `np` will be used for **NumPy** (to make arrays).\n",
    "\n",
    "---\n",
    "\n",
    "### 🔹 Step 2: Create Data Using NumPy Array\n",
    "\n",
    "```python\n",
    "data = np.array([[12, 4], [34, 5], [67, 8]])\n",
    "```\n",
    "\n",
    "This line makes a **NumPy array** that looks like this:\n",
    "\n",
    "```\n",
    "[[12,  4],\n",
    " [34,  5],\n",
    " [67,  8]]\n",
    "```\n",
    "\n",
    "It has **3 rows** and **2 columns**.\n",
    "\n",
    "---\n",
    "\n",
    "### 🔹 Step 3: Make a DataFrame\n",
    "\n",
    "```python\n",
    "df = pd.DataFrame(data, index=['row_1', 'row_2', 'row3'], columns=['col_1', 'col_2'])\n",
    "```\n",
    "\n",
    "Here’s what happens:\n",
    "\n",
    "* `data` is the 2D array (rows and columns of numbers).\n",
    "* `index=['row_1', 'row_2', 'row3']` gives **custom names** to the rows.\n",
    "* `columns=['col_1', 'col_2']` gives **custom names** to the columns.\n",
    "\n",
    " Final output:\n",
    "\n",
    "```\n",
    "       col_1  col_2\n",
    "row_1     12      4\n",
    "row_2     34      5\n",
    "row3      67      8\n",
    "```\n",
    "\n",
    "---\n",
    "\n",
    "### 🔹 Step 4: Same Thing with List of Lists\n",
    "\n",
    "```python\n",
    "data = [[12, 4], [34, 5], [67, 8]]\n",
    "df = pd.DataFrame(data, index=['row_1', 'row_2', 'row3'], columns=['col_1', 'col_2'])\n",
    "```\n",
    "\n",
    "This time, you used a regular **list of lists** instead of a NumPy array.\n",
    "\n",
    "But it works the same way!\n",
    "\n",
    " Output is still:\n",
    "\n",
    "```\n",
    "       col_1  col_2\n",
    "row_1     12      4\n",
    "row_2     34      5\n",
    "row3      67      8\n",
    "```\n",
    "\n",
    "---\n",
    "\n",
    "## 🟢 Summary Table\n",
    "\n",
    "| Item                | Meaning                                    |\n",
    "| ------------------- | ------------------------------------------ |\n",
    "| `np.array(...)`     | NumPy array (matrix of numbers)            |\n",
    "| `list of lists`     | Simple Python list that looks like a table |\n",
    "| `index=[...]`       | Names for rows                             |\n",
    "| `columns=[...]`     | Names for columns                          |\n",
    "| `pd.DataFrame(...)` | Creates the table (DataFrame)              |\n",
    "\n",
    "---\n",
    "\n"
   ]
  }
 ],
 "metadata": {
  "kernelspec": {
   "display_name": "Python 3 (ipykernel)",
   "language": "python",
   "name": "python3"
  },
  "language_info": {
   "codemirror_mode": {
    "name": "ipython",
    "version": 3
   },
   "file_extension": ".py",
   "mimetype": "text/x-python",
   "name": "python",
   "nbconvert_exporter": "python",
   "pygments_lexer": "ipython3",
   "version": "3.11.7"
  }
 },
 "nbformat": 4,
 "nbformat_minor": 5
}
